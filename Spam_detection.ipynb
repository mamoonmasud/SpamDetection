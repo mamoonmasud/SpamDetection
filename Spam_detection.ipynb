{
 "cells": [
  {
   "cell_type": "markdown",
   "metadata": {},
   "source": [
    "# Spam Detection in Emails"
   ]
  },
  {
   "cell_type": "code",
   "execution_count": 34,
   "metadata": {},
   "outputs": [],
   "source": [
    "import numpy as np\n",
    "import pandas as pd\n",
    "import os\n",
    "from collections import Counter\n",
    "from sklearn.naive_bayes import MultinomialNB, BernoulliNB\n",
    "from sklearn.svm import SVC, LinearSVC\n",
    "from sklearn.metrics import confusion_matrix, accuracy_score, classification_report\n",
    "import matplotlib.pyplot as plt\n",
    "import seaborn as sns"
   ]
  },
  {
   "cell_type": "code",
   "execution_count": 35,
   "metadata": {},
   "outputs": [
    {
     "name": "stdout",
     "output_type": "stream",
     "text": [
      "0\n",
      "1\n",
      "2\n"
     ]
    }
   ],
   "source": [
    "with open('train-mails/3-1msg1.txt') as m:\n",
    "    for i, line in enumerate(m):\n",
    "        print(i)\n",
    "    #Line 0 is subject\n",
    "    #Line 1 is blank\n",
    "    #Line 2 is email body"
   ]
  },
  {
   "cell_type": "code",
   "execution_count": 36,
   "metadata": {},
   "outputs": [],
   "source": [
    "#Function to get the most common 3000 words from the test emails to create a dictionary!\n",
    "\n",
    "def makeDict(train_direct):\n",
    "    emails = [os.path.join(train_direct , f) for f in os.listdir(train_direct)]\n",
    "    word_list = []\n",
    "    \n",
    "    for mail in emails:\n",
    "        with open(mail) as m:\n",
    "            for i, line in enumerate(m):\n",
    "                # i is the no. of lines\n",
    "                if i ==2:\n",
    "                    #Getting to the third line\n",
    "                    words = line.split()\n",
    "                    word_list += words\n",
    "    dict_word = Counter(word_list)\n",
    "    \n",
    "    words_keys = list(dict_word.keys())\n",
    "    \n",
    "    for item in words_keys:\n",
    "        if item.isalpha() == False:\n",
    "            del dict_word[item]\n",
    "            \n",
    "        elif len(item) ==1:\n",
    "            del dict_word[item]\n",
    "    \n",
    "    dict_word = dict_word.most_common(3000)\n",
    "    \n",
    "    return dict_word\n",
    "    "
   ]
  },
  {
   "cell_type": "code",
   "execution_count": 37,
   "metadata": {},
   "outputs": [],
   "source": [
    "#train_dict = makeDict('C:\\\\Users\\\\mamoo\\\\Desktop\\\\Python_Coding\\\\Spam Detection\\\\train-mails')"
   ]
  },
  {
   "cell_type": "code",
   "execution_count": 38,
   "metadata": {},
   "outputs": [],
   "source": [
    "# len(train_dict)\n",
    "# train_dict[3]"
   ]
  },
  {
   "cell_type": "code",
   "execution_count": 39,
   "metadata": {},
   "outputs": [],
   "source": [
    "def feature_extract(data_dir):\n",
    "    file_train = [os.path.join(data_dir, i) for i in os.listdir(data_dir)]\n",
    "    \n",
    "    feature_matrix = np.zeros((len(file_train), 3000))\n",
    "    \n",
    "    docID = 0\n",
    "    for i in file_train:\n",
    "        with open(i) as i:\n",
    "            for j, line in enumerate(i):\n",
    "                if j == 2:\n",
    "                    words = line.split()\n",
    "                    for word in words:\n",
    "                        wordID = 0\n",
    "                        for k, d in enumerate(train_dict):\n",
    "                            if d[0] == word:\n",
    "                                wordID = k\n",
    "                                feature_matrix[docID, wordID] = words.count(word)\n",
    "            docID += 1\n",
    "    return feature_matrix"
   ]
  },
  {
   "cell_type": "code",
   "execution_count": 10,
   "metadata": {},
   "outputs": [],
   "source": [
    "# First, we'll create a dictionary of all the words in the dictionary\n",
    "\n",
    "train_words= 'train-mails'\n",
    "\n",
    "train_dict = makeDict(train_words)\n",
    "\n",
    "train_labels = np.zeros(702)\n",
    "\n",
    "#The bottom half are spam emails, so we assign a label 1 to that!\n",
    "train_labels[351:701] = 1\n",
    "\n",
    "train_matrix = feature_extract(train_words)\n",
    "#Train Matrix Contains the training emails in one-hot encoding!"
   ]
  },
  {
   "cell_type": "code",
   "execution_count": 41,
   "metadata": {},
   "outputs": [
    {
     "data": {
      "text/plain": [
       "(702, 3000)"
      ]
     },
     "execution_count": 41,
     "metadata": {},
     "output_type": "execute_result"
    }
   ],
   "source": [
    "train_matrix.shape\n",
    "# 702 Training Emails and 3000 words!\n"
   ]
  },
  {
   "cell_type": "code",
   "execution_count": 18,
   "metadata": {},
   "outputs": [],
   "source": [
    "# We'll train 3 different models & Compare their results!\n",
    "\n",
    "M1= MultinomialNB().fit(train_matrix, train_labels)\n",
    "M2 = LinearSVC().fit(train_matrix, train_labels)\n",
    "M3 = BernoulliNB().fit(train_matrix, train_labels)"
   ]
  },
  {
   "cell_type": "code",
   "execution_count": 19,
   "metadata": {},
   "outputs": [],
   "source": [
    "#Testing the Classifiers\n",
    "\n",
    "test_dir = 'test-mails'\n",
    "test_matrix = feature_extract(test_dir)\n",
    "test_labels = np.zeros(260)\n",
    "test_labels[130:260] = 1\n",
    "\n",
    "r1 = M1.predict(test_matrix)"
   ]
  },
  {
   "cell_type": "markdown",
   "metadata": {},
   "source": [
    "### Multinomial Naive Bayes"
   ]
  },
  {
   "cell_type": "code",
   "execution_count": 23,
   "metadata": {},
   "outputs": [
    {
     "name": "stdout",
     "output_type": "stream",
     "text": [
      "Accuracy for Multinomial NB Classifier is:  0.9615384615384616\n"
     ]
    },
    {
     "data": {
      "image/png": "[encoded data removed]",
      "text/plain": [
       "<Figure size 576x396 with 2 Axes>"
      ]
     },
     "metadata": {},
     "output_type": "display_data"
    }
   ],
   "source": [
    "r1 = M1.predict(test_matrix)\n",
    "cm_r1 = confusion_matrix(test_labels, r1)\n",
    "acc_r1 = accuracy_score(test_labels, r1)\n",
    "\n",
    "print(\"Accuracy for Multinomial NB Classifier is: \", acc_r1)\n",
    "sns.heatmap(cm_r1, annot= True, fmt ='d')\n",
    "plt.show()\n",
    "#print(M1.predict(test_matrix))"
   ]
  },
  {
   "cell_type": "code",
   "execution_count": 29,
   "metadata": {},
   "outputs": [
    {
     "name": "stdout",
     "output_type": "stream",
     "text": [
      "              precision    recall  f1-score   support\n",
      "\n",
      "         0.0       0.93      0.99      0.96       130\n",
      "         1.0       0.99      0.93      0.96       130\n",
      "\n",
      "    accuracy                           0.96       260\n",
      "   macro avg       0.96      0.96      0.96       260\n",
      "weighted avg       0.96      0.96      0.96       260\n",
      "\n"
     ]
    }
   ],
   "source": [
    "print(classification_report(test_labels, r1))"
   ]
  },
  {
   "cell_type": "markdown",
   "metadata": {},
   "source": [
    "### Linear SVM"
   ]
  },
  {
   "cell_type": "code",
   "execution_count": 31,
   "metadata": {},
   "outputs": [
    {
     "name": "stdout",
     "output_type": "stream",
     "text": [
      "Accuracy for Linear SVM Classifier is:  0.9615384615384616\n"
     ]
    },
    {
     "data": {
      "image/png": "[encoded data removed]",
      "text/plain": [
       "<Figure size 576x396 with 2 Axes>"
      ]
     },
     "metadata": {},
     "output_type": "display_data"
    }
   ],
   "source": [
    "r2 = M2.predict(test_matrix)\n",
    "cm_r2 = confusion_matrix(test_labels, r2)\n",
    "acc_r2 = accuracy_score(test_labels, r2)\n",
    "\n",
    "print(\"Accuracy for Linear SVM Classifier is: \", acc_r2)\n",
    "sns.heatmap(cm_r2, annot= True, fmt ='d')\n",
    "plt.show()"
   ]
  },
  {
   "cell_type": "markdown",
   "metadata": {},
   "source": [
    "### Binomial Naive Bayes"
   ]
  },
  {
   "cell_type": "code",
   "execution_count": 32,
   "metadata": {},
   "outputs": [
    {
     "name": "stdout",
     "output_type": "stream",
     "text": [
      "Accuracy for Binomial NB Classifier is:  0.7692307692307693\n"
     ]
    },
    {
     "data": {
      "image/png": "[encoded data removed]",
      "text/plain": [
       "<Figure size 576x396 with 2 Axes>"
      ]
     },
     "metadata": {},
     "output_type": "display_data"
    }
   ],
   "source": [
    "r3 = M3.predict(test_matrix)\n",
    "cm_r3 = confusion_matrix(test_labels, r3)\n",
    "acc_r3 = accuracy_score(test_labels, r3)\n",
    "\n",
    "print(\"Accuracy for Binomial NB Classifier is: \", acc_r3)\n",
    "sns.heatmap(cm_r3, annot= True, fmt ='d')\n",
    "plt.show()\n",
    "#print(M1.predict(test_matrix))"
   ]
  },
  {
   "cell_type": "code",
   "execution_count": 33,
   "metadata": {},
   "outputs": [],
   "source": [
    "# Binomial NB Performs poorly as compared to the other two!"
   ]
  },
  {
   "cell_type": "code",
   "execution_count": null,
   "metadata": {},
   "outputs": [],
   "source": []
  }
 ],
 "metadata": {
  "kernelspec": {
   "display_name": "Python 3",
   "language": "python",
   "name": "python3"
  },
  "language_info": {
   "codemirror_mode": {
    "name": "ipython",
    "version": 3
   },
   "file_extension": ".py",
   "mimetype": "text/x-python",
   "name": "python",
   "nbconvert_exporter": "python",
   "pygments_lexer": "ipython3",
   "version": "3.7.10"
  }
 },
 "nbformat": 4,
 "nbformat_minor": 4
}
